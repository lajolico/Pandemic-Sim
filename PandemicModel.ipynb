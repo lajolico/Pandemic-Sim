{
 "cells": [
  {
   "cell_type": "markdown",
   "id": "pressing-munich",
   "metadata": {},
   "source": [
    "<h1 style=\"text-align: center;\"> Final Project </h1>\n",
    "\n",
    "<h2 style=\"text-align: center;\">  Pandemic Simulator </h2>\n",
    "<h3 style=\"text-align: center;\">Team members: Matt Mitchell, Nick Vino, and Logan Jolicoeur </h3>"
   ]
  },
  {
   "cell_type": "markdown",
   "id": "7d0bb3f2",
   "metadata": {},
   "source": [
    "# Section I\n",
    "## Introduction\n",
    "In this notebook, we'll develop a model of a pandemic as it directly spreads in a susceptible population, and explore the effectiveness of interventions such as vaccination and quarantining . Epidemiologic modeling is important for understanding disease spread and developing plans to control the spread. In Section II, we establish a strong foundation by building the simpliest SI model to discover the underlying ordinary differential equations that dictate the rules for the system and an inuitive sense for how to extend the model to capture more nuances which correspond to a more realistic model.\n",
    "\n",
    "According to 2022 census records, the city of Banner Elk in North Carolina has a population of approximately 1,000 people. Banner Elk will be the center of our attention as we simulate the spread of an infection in the city. To simplify our study we assume the town will have a fixed population, i.e., no vital processes. We introduce well-known models of infectious disease, the SI model, the SIR (Kermack-McKendrick) model, SIS model, SIRS model, SIRV model and use them to explain the progression of the disease over the course of 2,000 days.\n",
    "\n"
   ]
  },
  {
   "cell_type": "markdown",
   "id": "f45da37a",
   "metadata": {},
   "source": [
    "# Section II\n",
    "## Implementation\n",
    "The following models were produced with the Epidemics on Networks (EoN) package for python\n",
    "\n",
    "Citation: [Journal of Open Source Software publication](https://doi.org/10.21105/joss.01731)"
   ]
  },
  {
   "cell_type": "markdown",
   "id": "c6049857",
   "metadata": {},
   "source": [
    "The following packages are necessary for this notebook:"
   ]
  },
  {
   "cell_type": "code",
   "execution_count": null,
   "id": "formal-context",
   "metadata": {
    "tags": []
   },
   "outputs": [],
   "source": [
    "import EoN\n",
    "import networkx as nx\n",
    "from collections import defaultdict\n",
    "import matplotlib.pyplot as plt\n",
    "import matplotlib.animation as animation\n",
    "import numpy as np\n",
    "from PIL import Image\n",
    "from IPython.display import HTML"
   ]
  },
  {
   "cell_type": "markdown",
   "id": "persistent-carbon",
   "metadata": {},
   "source": [
    "## SI Model\n",
    "\n",
    "Initially, we consider a model with no recovery rate, a person is considered to be either susceptible or infected. A real life example of a SI disease is the herpesvirus family of viruses which characteristically establishes latent infection within specific tissues [[1]](https://www.ncbi.nlm.nih.gov/books/NBK8157/). The interaction between the two classes of population results in a flow from susceptible to infected over time. We can write this as the following rates of change for S and I respectively:\n",
    "\n",
    "$\\frac{dS}{dt} = -\\beta SI$\n",
    "\n",
    "$\\frac{dI}{dt} = \\beta SI$\n",
    "\n",
    "This nonlinear system of differential equation can be solved assuming the population remains constant by adding the two equations. We arrive at $\\frac{dS}{dt} + \\frac{dI}{dt} = 0$ which can be integrated giving us $S(t) + I(t) = S(0) + I(0)$. The initial population is $N$ so we write $S(t) + I(t) = N$ to allow us to replace $S$ in the rates above with $N - I$. Our new equation is as follows\n",
    "\n",
    "$\\frac{dI}{dt} = \\beta (N-I)I$.\n",
    "\n",
    "If $I(0) > 0$, then the equilibrium $N$ will be approached as $t$ approaches infinity. Simply put the SI model predicts that everyone will become infected as long as there is an initial infected population.\n",
    "\n",
    "Furthermore, we choose to investigate the value $R_0$ which is defined as the total number of new infected caused by each infected individual, on average.\n",
    "\n",
    "$R_0 = \\beta \\cdot \\langle k \\rangle \\cdot d = 0.0015 \\cdot 5 \\cdot 2000 = 15$\n",
    "\n",
    "For a population of 1000 we expect an infected person to cause 15 new infections on average [[2]](https://web.stanford.edu/~jhj1/teachingdocs/Jones-on-R0.pdf).\n",
    "\n",
    "The graph produced below illustrates how fast an outbreak can occur once enough fuel is provided. There are ~10% infected 400 days in to the simulation, then the infection skyrockets to 50% in another 400 days. We observe in the span of 1600 days from the start a total infection of the population."
   ]
  },
  {
   "cell_type": "code",
   "execution_count": null,
   "id": "83eeb716",
   "metadata": {},
   "outputs": [],
   "source": [
    "N=1000\n",
    "rho = 0.01      #intial infected\n",
    "kave = 5\n",
    "gamma = 0       #recovery rate\n",
    "beta = 0.0015    #transmision rate\n",
    "\n",
    "S0 = (1-rho)*N\n",
    "I0 = rho*N\n",
    "SI0 = (1-rho)*kave*rho*N\n",
    "SS0 = (1-rho)*kave*(1-rho)*N\n",
    "t, S, I = EoN.SIS_homogeneous_pairwise(S0, I0, SI0, SS0, kave, beta, gamma, tmax=2000)\n",
    "\n",
    "plt.plot(t, S, label = 'S')\n",
    "plt.plot(t, I, label = 'I')\n",
    "plt.xlabel('$t$')\n",
    "plt.ylabel('Population')\n",
    "plt.legend()\n",
    "plt.show()"
   ]
  },
  {
   "cell_type": "markdown",
   "id": "fac2f1ff",
   "metadata": {},
   "source": [
    "## SIR Model"
   ]
  },
  {
   "cell_type": "markdown",
   "id": "cbd9d9a7",
   "metadata": {},
   "source": [
    "The SIR model introduces another compartment for the population to be partitioned into after recovering from an infection. It should be noted that individuals recover with permanent immunity. This type of model is relevant for studying diseases such as measles, mumps, and smallpox.\n",
    "\n",
    "$\\frac{dS}{dt} = -\\beta SI$\n",
    "\n",
    "$\\frac{dI}{dt} = \\beta SI - \\gamma I$\n",
    "\n",
    "$\\frac{dR}{dt} = \\gamma I$\n",
    "\n",
    "Initially, $S \\approx N$ and $I < N$ we can rewrite the rate of infection as $\\frac{dI}{dt} = I(\\beta N - \\gamma)$. Solving the differential equation gives us $I(t) = I(0)e^{\\beta N - \\gamma}$. We are interested in a growing exponential, an epidemic, which occurs when $\\beta - \\gamma > 0$ or equivalently $\\beta / \\gamma > 1$. \n",
    "\n",
    "The basic reproductive ratio can now be solved as follows $R_0 = \\beta /\\gamma = \\frac{0.65}{0.2} = 3.25$. \n",
    "\n",
    "In this closed system, an epidemic will die out because there is not enough susceptible individuals to sustain the disease after the exponential outbreak. In about 4 days the epidemic infects 70% of the population but rapidly drops to 0 by day 30."
   ]
  },
  {
   "cell_type": "code",
   "execution_count": null,
   "id": "390ef160",
   "metadata": {},
   "outputs": [],
   "source": [
    "N = 1000            #population\n",
    "rho = 0.01          #initial infected\n",
    "kave = 5.5            #average degree\n",
    "gamma = 0.2        #recovery rate\n",
    "beta = 0.65         #transmission rate\n",
    "\n",
    "phiS0 = 1-rho\n",
    "def psi(x):\n",
    "    return (1-rho)* np.exp(-kave*(1-x))\n",
    "def psiPrime(x):\n",
    "    return (1-rho)*kave*np.exp(-kave*(1-x))\n",
    "\n",
    "t, S, I, R = EoN.EBCM(N, psi, psiPrime, beta, gamma, phiS0, tmax = 50)\n",
    "plt.plot(t, S, label = 'S')\n",
    "plt.plot(t, I, label = 'I')\n",
    "plt.plot(t, R, label = 'R')\n",
    "plt.xlabel('$t$')\n",
    "plt.ylabel('Population')\n",
    "plt.title(\"SIR: 5 day recovery\")\n",
    "plt.legend()\n",
    "plt.show()"
   ]
  },
  {
   "cell_type": "markdown",
   "id": "2d8ab5f5",
   "metadata": {},
   "source": [
    "## SIS Model"
   ]
  },
  {
   "cell_type": "markdown",
   "id": "5f60fbf1",
   "metadata": {},
   "source": [
    "In the SIS model, recovery does not give immunity to the disease since individuals move from the susceptible class to the infective class and then back to the susceptible class upon recovery. This type of model is most appropriate for bacterial agent diseases such as streptococcal sore throat, meningitis and venereal diseases, and for protozoan agent diseases such as malaria and sleeping sickness [[3]](https://www.stat.cmu.edu/~kass/covid/Hethcote1989ThreeBasicModels.pdf). As a natural extension from the SI model, the SIS model simply needs the addition of a rate of change from infected to susceptible as follows\n",
    "\n",
    "$\\frac{dS}{dt} = \\gamma I- \\beta SI$\n",
    "\n",
    "$\\frac{dI}{dt} = \\beta SI - \\gamma I$\n",
    "\n",
    "Using the same substitution in the SI model above, we arrive at the equation\n",
    "\n",
    "$\\frac{dI}{dt} = I(\\beta N - \\gamma) - \\beta I^2$.\n",
    "\n",
    "Assuming there is an positive initial infective fraction, when $\\beta / \\gamma > 1$, it stands to reason, that ratio approaches a constant endemic value; otherwise, the disease will die out. The graph below shows an outbreak approaching 40% infected population and 60% susceptible population at steady state. For $R_0 = 2.5$, the infected fraction at equilibrium is $\\zeta = 1 - (\\frac{1}{2.5}) = 40\\%$ as expected."
   ]
  },
  {
   "cell_type": "code",
   "execution_count": null,
   "id": "bb0affaf",
   "metadata": {},
   "outputs": [],
   "source": [
    "N = 1000\n",
    "rho = 0.01\n",
    "kave = 6\n",
    "\n",
    "gamma = 0.013\n",
    "beta = 0.004\n",
    "\n",
    "S0 = 990\n",
    "I0 = 10\n",
    "SI0 = (1-rho)*kave*rho*N\n",
    "SS0 = (1-rho)*kave*(1-rho)*N\n",
    "t, S, I = EoN.SIS_homogeneous_pairwise(S0, I0, SI0, SS0, kave, beta, gamma, tmax=2000)\n",
    "plt.plot(t, S, label = 'S')\n",
    "plt.plot(t, I, label = 'I')\n",
    "plt.xlabel('$t$')\n",
    "plt.ylabel('Population')\n",
    "plt.legend()\n",
    "plt.show()"
   ]
  },
  {
   "cell_type": "markdown",
   "id": "fd9038de",
   "metadata": {},
   "source": [
    "## SIRS Model"
   ]
  },
  {
   "cell_type": "markdown",
   "id": "1993663a",
   "metadata": {},
   "source": [
    "Airborne diseases like seasonal influenza. Allows recovered individuals to return to a susceptible state.\n",
    "\n",
    "$\\frac{dS}{dt} = -\\beta SI + \\xi R$\n",
    "\n",
    "$\\frac{dI}{dt} = \\beta SI - \\gamma I$\n",
    "\n",
    "$\\frac{dR}{dt} = \\gamma I - \\xi R$\n",
    "\n",
    "$R_0 = \\beta / (\\gamma + \\xi)= 0.7 / (0.2 + 0.05) = 2.8$"
   ]
  },
  {
   "cell_type": "code",
   "execution_count": 184,
   "id": "df9c92ed",
   "metadata": {},
   "outputs": [
    {
     "data": {
      "text/plain": [
       "<matplotlib.legend.Legend at 0x1bde2459e70>"
      ]
     },
     "execution_count": 184,
     "metadata": {},
     "output_type": "execute_result"
    },
    {
     "data": {
      "image/png": "[encoded data removed]",
      "text/plain": [
       "<Figure size 640x480 with 1 Axes>"
      ]
     },
     "metadata": {},
     "output_type": "display_data"
    }
   ],
   "source": [
    "N = 1000\n",
    "kave = 5    #expected number of partners\n",
    "G = nx.fast_gnp_random_graph(N, kave/(N-1))\n",
    "\n",
    "H = nx.DiGraph()  #DiGraph showing possible transitions that don't require an interaction\n",
    "H.add_edge('I', 'R', rate = 0.2)   #Recovery rate\n",
    "H.add_edge('R', 'S', rate = 0.05)   #Recovered -> Susceptible\n",
    "\n",
    "J = nx.DiGraph()    #DiGraph showing transition that does require an interaction.\n",
    "J.add_edge(('I', 'S'), ('I', 'I'), rate = 0.7)  #Infect rate\n",
    "\n",
    "IC = defaultdict(lambda: 'S')\n",
    "for node in range(10):\n",
    "    IC[node] = 'I'\n",
    "\n",
    "return_statuses = ('S', 'I', 'R')\n",
    "\n",
    "t, S, I, R = EoN.Gillespie_simple_contagion(G, H, J, IC, return_statuses, tmax = 50)\n",
    "\n",
    "plt.plot(t, S, label = 'S')\n",
    "plt.plot(t, I, label = 'I')\n",
    "plt.plot(t, R, label = 'R')\n",
    "plt.xlabel('$t$')\n",
    "plt.ylabel('Population')\n",
    "plt.title(\"SIRS: 20 day R->S\")\n",
    "plt.legend()"
   ]
  },
  {
   "cell_type": "markdown",
   "id": "2b2a74e1",
   "metadata": {},
   "source": [
    "## SIRV Model"
   ]
  },
  {
   "cell_type": "code",
   "execution_count": null,
   "id": "80d2bc9c",
   "metadata": {},
   "outputs": [],
   "source": [
    "G = nx.grid_2d_graph(32,32) #each node is (u,v) where 0<=u,v<=32    32x32 = 1024 population\n",
    "#we'll initially infect those near the middle\n",
    "initial_infections = [(u,v) for (u,v) in G if 14<u<18 and 14<v<18] # 3x3 = 9 initial infected\n",
    "H = nx.DiGraph() #the spontaneous transitions\n",
    "H.add_edge('Sus', 'Vac', rate = 0.0003)\n",
    "H.add_edge('Inf', 'Rec', rate = 0.0025)\n",
    "J = nx.DiGraph() #the induced transitions\n",
    "J.add_edge(('Inf', 'Sus'), ('Inf', 'Inf'), rate = 0.01)\n",
    "\n",
    "IC = defaultdict(lambda:'Sus')\n",
    "for node in initial_infections:\n",
    "    IC[node] = 'Inf'\n",
    "    \n",
    "return_statuses = ['Sus', 'Inf', 'Rec', 'Vac']\n",
    "\n",
    "color_dict = {'Sus': '#E69A00','Inf':'#ff2000', 'Rec':'#CD9AB3','Vac': '#03254c'}\n",
    "pos = {node:node for node in G}\n",
    "tex = False\n",
    "sim_kwargs = {'color_dict':color_dict, 'pos':pos, 'tex':tex}\n",
    "\n",
    "sim = EoN.Gillespie_simple_contagion(G, H, J, IC, return_statuses, tmax=2000, return_full_data=True, sim_kwargs=sim_kwargs)\n",
    "\n",
    "times, D = sim.summary()\n",
    "\n",
    "newD = {'Sus+Vac':D['Sus']+D['Vac'], 'Inf+Rec' : D['Inf'] + D['Rec']}\n",
    "\n",
    "new_timeseries = (times, newD)\n",
    "sim.add_timeseries(new_timeseries, label = 'Simulation', color_dict={'Sus+Vac':'#E69A00', 'Inf+Rec':'#CD9AB3'})\n",
    "\n",
    "sim.display(time=1, node_size = 4, ts_plots=[['Inf'], ['Sus+Vac', 'Inf+Rec']])\n",
    "\n",
    "ani=sim.animate(ts_plots=[['Inf'], ['Sus+Vac', 'Inf+Rec']], node_size = 4)\n",
    "ani.save('SIRV_animate.gif', writer=\"pillow\", dpi=100)"
   ]
  },
  {
   "cell_type": "code",
   "execution_count": null,
   "id": "6f12797a",
   "metadata": {},
   "outputs": [],
   "source": [
    "G = nx.grid_2d_graph(32,32) #each node is (u,v) where 0<=u,v<=32\n",
    "#we'll initially infect those near the middle\n",
    "initial_infections = [(u,v) for (u,v) in G if 14<u<18 and 14<v<18]\n",
    "H = nx.DiGraph() #the spontaneous transitions\n",
    "H.add_edge('Sus', 'Vac', rate = 0.0005)\n",
    "H.add_edge('Inf', 'Rec', rate = 0.0025)\n",
    "J = nx.DiGraph() #the induced transitions\n",
    "J.add_edge(('Inf', 'Sus'), ('Inf', 'Inf'), rate = 0.01)\n",
    "\n",
    "IC = defaultdict(lambda:'Sus')\n",
    "for node in initial_infections:\n",
    "    IC[node] = 'Inf'\n",
    "    \n",
    "return_statuses = ['Sus', 'Inf', 'Rec', 'Vac']\n",
    "\n",
    "color_dict = {'Sus': '#E69A00','Inf':'#ff2000', 'Rec':'#CD9AB3','Vac': '#03254c'}\n",
    "pos = {node:node for node in G}\n",
    "tex = False\n",
    "sim_kwargs = {'color_dict':color_dict, 'pos':pos, 'tex':tex}\n",
    "\n",
    "sim = EoN.Gillespie_simple_contagion(G, H, J, IC, return_statuses, tmax=2000, return_full_data=True, sim_kwargs=sim_kwargs)\n",
    "\n",
    "times, D = sim.summary()\n",
    "\n",
    "newD = {'Sus+Vac':D['Sus']+D['Vac'], 'Inf+Rec' : D['Inf'] + D['Rec']}\n",
    "\n",
    "new_timeseries = (times, newD)\n",
    "sim.add_timeseries(new_timeseries, label = 'Simulation', color_dict={'Sus+Vac':'#E69A00', 'Inf+Rec':'#CD9AB3'})\n",
    "\n",
    "sim.display(time=1, node_size = 4, ts_plots=[['Inf'], ['Sus+Vac', 'Inf+Rec']])\n",
    "\n",
    "ani2=sim.animate(ts_plots=[['Inf'], ['Sus+Vac', 'Inf+Rec']], node_size = 4)\n",
    "ani2.save('SIRV_animate.gif', writer=\"pillow\", dpi=100)"
   ]
  },
  {
   "cell_type": "code",
   "execution_count": null,
   "id": "6c2f730b",
   "metadata": {},
   "outputs": [],
   "source": [
    "\n",
    "HTML(ani.to_jshtml())"
   ]
  },
  {
   "cell_type": "code",
   "execution_count": null,
   "id": "6fbf79c6",
   "metadata": {},
   "outputs": [],
   "source": [
    "HTML(ani2.to_jshtml())"
   ]
  }
 ],
 "metadata": {
  "celltoolbar": "Tags",
  "kernelspec": {
   "display_name": "Python 3.10.2 64-bit",
   "language": "python",
   "name": "python3"
  },
  "language_info": {
   "codemirror_mode": {
    "name": "ipython",
    "version": 3
   },
   "file_extension": ".py",
   "mimetype": "text/x-python",
   "name": "python",
   "nbconvert_exporter": "python",
   "pygments_lexer": "ipython3",
   "version": "3.10.2"
  },
  "vscode": {
   "interpreter": {
    "hash": "eabca979b0553fa6d87e9a00c352604d3b703d4afc9641643dd42376492b80f6"
   }
  }
 },
 "nbformat": 4,
 "nbformat_minor": 5
}
