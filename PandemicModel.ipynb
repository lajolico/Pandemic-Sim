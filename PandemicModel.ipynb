{
 "cells": [
  {
   "cell_type": "markdown",
   "id": "pressing-munich",
   "metadata": {},
   "source": [
    "<h1 style=\"text-align: center;\"> Final Project </h1>\n",
    "\n",
    "<h2 style=\"text-align: center;\">  Pandemic Simulator </h2>\n",
    "<h3 style=\"text-align: center;\">Team members: Matt Mitchell, Nick Vino, and Logan Jolicoeur </h3>"
   ]
  },
  {
   "cell_type": "markdown",
   "id": "7d0bb3f2",
   "metadata": {},
   "source": [
    "# Section I\n",
    "## Introduction\n",
    "In this notebook, we'll develop a model of a pandemic as it directly spreads in a susceptible population, and explore the effectiveness of interventions such as vaccination and quarantining . Epidemiologic modeling is important for understanding disease spread and developing plans to control the spread. In Section II, we establish a strong foundation by building the simpliest SI model to discover the underlying ordinary differential equations that dictate the rules for the system and an inuitive sense for how to extend the model to capture more nuances which correspond to a more realistic model.\n",
    "\n",
    "According to 2022 census records, the city of Banner Elk in North Carolina has a population of approximately 1,000 people. Banner Elk will be the center of our attention as we simulate the spread of an infection in the city. To simplify our study we assume the town will have a fixed population, i.e., no vital processes. We introduce well-known models of infectious disease, the SI model, the SIR (Kermack-McKendrick) model, SIS model, SIRS model, SIRV model and use them to explain the progression of the disease over the course of 2,000 days.\n",
    "\n"
   ]
  },
  {
   "cell_type": "markdown",
   "id": "f45da37a",
   "metadata": {},
   "source": [
    "# Section II\n",
    "## Implementation\n",
    "The following models were produced with the Epidemics on Networks (EoN) package for python\n",
    "\n",
    "## Citations:\n",
    "[Journal of Open Source Software publication](https://doi.org/10.21105/joss.01731)\n",
    "\n",
    "[EoN documentation](https://epidemicsonnetworks.readthedocs.io/en/latest/EoN.html)"
   ]
  },
  {
   "cell_type": "markdown",
   "id": "c6049857",
   "metadata": {},
   "source": [
    "The following packages are necessary for this notebook:"
   ]
  },
  {
   "cell_type": "code",
   "execution_count": null,
   "id": "formal-context",
   "metadata": {
    "tags": []
   },
   "outputs": [],
   "source": [
    "import EoN\n",
    "import networkx as nx\n",
    "from collections import defaultdict\n",
    "import matplotlib.pyplot as plt\n",
    "import matplotlib.animation as animation\n",
    "import numpy as np\n",
    "from PIL import Image\n",
    "from IPython.display import HTML"
   ]
  },
  {
   "cell_type": "markdown",
   "id": "40a08d90",
   "metadata": {},
   "source": [
    "## Node Implementation G(n,p)\n",
    "\n",
    "Each person in these models are connected to each other via edges. Edges are a representation of how they different nodes(persons) know or interact with one another. \n",
    "\n",
    "![Alt text](node_figure.png)\n",
    "\n",
    "If an $I(t)$ node is connected to a $S(t)$ this does not mean the $S(t)$ node will become infected. There are rules in place that dictate this. For example, a $I(t)$ node has a choice on whether to \"go out\" or quarantine. If they decide to go out, then they risk infecting on of their friends and family. Further, each node, when infected has a $infection.prob$, if the $infection.prob$ is greater than a random generated number, they will infect that node. It is important to note that on average, each node has one to five connections. This can increase dramatically, if a node decides to go to a party or a big event, with other nodes. To model this, we implemented an increase of connections between nodes, based on friends/families in the community.\n",
    "\n",
    "![Alt text](../../../../../C:/Users/warso/Desktop/final_project_407/increase_nodeage.png)\n"
   ]
  },
  {
   "cell_type": "markdown",
   "id": "persistent-carbon",
   "metadata": {},
   "source": [
    "## SI Model\n",
    "\n",
    "Initially, we consider a model with no recovery rate, a person is considered to be either susceptible or infected. A real life example of a SI disease is the herpesvirus family of viruses which characteristically establishes latent infection within specific tissues [[1]](https://www.ncbi.nlm.nih.gov/books/NBK8157/). The interaction between the two classes of population results in a flow from susceptible to infected over time. We can write this as the following rates of change for S and I respectively:\n",
    "\n",
    "$\\frac{dS}{dt} = -rSI$\n",
    "\n",
    "$\\frac{dI}{dt} = rSI$\n",
    "\n",
    "This nonlinear system of differential equation can be solved assuming the population remains constant by adding the two equations. We arrive at $\\frac{dS}{dt} + \\frac{dI}{dt} = 0$ which can be integrated giving us $S(t) + I(t) = S(0) + I(0)$. The initial population is $N$ so we write $S(t) + I(t) = N$ to allow us to replace $S$ in the rates above with $N - I$. Our new equation is as follows\n",
    "\n",
    "$\\frac{dI}{dt} = r(N-I)I$.\n",
    "\n",
    "If $I(0) > 0$, then the equilibrium $N$ will be approached as $t$ approaches infinity. Simply put the SI model predicts that everyone will become infected as long as there is an initial infected population.\n",
    "\n",
    "Furthermore, we choose to investigate the value $R_0$ which is defined as the total number of new infected caused by each infected individual, on average.\n",
    "\n",
    "$R_0 = 0.0015$\n",
    "\n",
    "For a population of 1000 we expect an infected person to cause 15 new infections on average.\n",
    "\n",
    "We can set parameters of the model as follows:"
   ]
  },
  {
   "cell_type": "code",
   "execution_count": null,
   "id": "83eeb716",
   "metadata": {},
   "outputs": [],
   "source": [
    "N=1000\n",
    "rho = 0.01      #intial infected\n",
    "kave = 5\n",
    "gamma = 0       #recovery rate\n",
    "tau = 0.0015    #transmision rate\n",
    "\n",
    "S0 = (1-rho)*N\n",
    "I0 = rho*N\n",
    "SI0 = (1-rho)*kave*rho*N\n",
    "SS0 = (1-rho)*kave*(1-rho)*N\n",
    "t, S, I = EoN.SIS_homogeneous_pairwise(S0, I0, SI0, SS0, kave, tau, gamma, tmax=2000)\n",
    "\n",
    "plt.plot(t, S, label = 'S')\n",
    "plt.plot(t, I, label = 'I')\n",
    "plt.xlabel('$t$')\n",
    "plt.ylabel('Population')\n",
    "plt.legend()\n",
    "plt.show()"
   ]
  },
  {
   "cell_type": "markdown",
   "id": "fac2f1ff",
   "metadata": {},
   "source": [
    "## SIR Model\n",
    "\n",
    "The SIR model is similar to the SIS model, but in this model after susceptible become infected they become R(t) or recovered. Where they cannot become infected again. \n",
    "\n",
    "The susceptible equation is as follows: \n",
    "\n",
    "$\\frac{dS}{dt} = $-b * $s(t) * I(t)$\n",
    "\n",
    "The recovered equation is:\n",
    "\n",
    "$\\frac{dr}{dt} = k * i(t)$\n",
    "\n",
    "The infected equation is:\n",
    "\n",
    "$\\frac{dS}{dt} + \\frac{di}{dt} + \\frac{dr}{dt} = 0$\n",
    "\n",
    "These equations are utilized to develop our models below, we some variation."
   ]
  },
  {
   "cell_type": "code",
   "execution_count": null,
   "id": "390ef160",
   "metadata": {},
   "outputs": [],
   "source": [
    "N = 1000            #population\n",
    "rho = 0.01          #initial infected\n",
    "kave = 5            #average degree\n",
    "gamma = 0.0045      #recovery rate\n",
    "tau = 0.007         #transmission rate\n",
    "\n",
    "phiS0 = 1-rho\n",
    "def psi(x):\n",
    "    return (1-rho)* np.exp(-kave*(1-x))\n",
    "def psiPrime(x):\n",
    "    return (1-rho)*kave*np.exp(-kave*(1-x))\n",
    "\n",
    "t, S, I, R = EoN.EBCM(N, psi, psiPrime, tau, gamma, phiS0, tmax = 2000)\n",
    "plt.plot(t, S, label = 'S')\n",
    "plt.plot(t, I, label = 'I')\n",
    "plt.plot(t, R, label = 'R')\n",
    "plt.xlabel('$t$')\n",
    "plt.ylabel('Population')\n",
    "plt.legend()\n",
    "plt.show()"
   ]
  },
  {
   "cell_type": "markdown",
   "id": "2d8ab5f5",
   "metadata": {},
   "source": [
    "## SIS Model"
   ]
  },
  {
   "cell_type": "markdown",
   "id": "5f60fbf1",
   "metadata": {},
   "source": [
    "$R_0$ = 2 * 0.01 / 5 = 0.004\n",
    "\n",
    "$R_0$ for a population of 1000 is 4. We can conclude that on average an infected node infects 4 new infections on average."
   ]
  },
  {
   "cell_type": "code",
   "execution_count": null,
   "id": "bb0affaf",
   "metadata": {},
   "outputs": [],
   "source": [
    "N = 1000\n",
    "rho = 0.01\n",
    "kave = 5\n",
    "\n",
    "gamma = 0.01\n",
    "tau = 2*gamma/ kave\n",
    "\n",
    "S0 = (1-rho)*N\n",
    "I0 = rho*N\n",
    "SI0 = (1-rho)*kave*rho*N\n",
    "SS0 = (1-rho)*kave*(1-rho)*N\n",
    "t, S, I = EoN.SIS_homogeneous_pairwise(S0, I0, SI0, SS0, kave, tau, gamma, tmax=2000)\n",
    "plt.plot(t, S, label = 'S')\n",
    "plt.plot(t, I, label = 'I')\n",
    "plt.xlabel('$t$')\n",
    "plt.ylabel('Predicted numbers')\n",
    "plt.legend()\n",
    "plt.show()"
   ]
  },
  {
   "cell_type": "markdown",
   "id": "fd9038de",
   "metadata": {},
   "source": [
    "## SIRS Model"
   ]
  },
  {
   "cell_type": "code",
   "execution_count": null,
   "id": "df9c92ed",
   "metadata": {},
   "outputs": [],
   "source": [
    "N = 1000\n",
    "kave = 5    #expected number of partners\n",
    "G = nx.fast_gnp_random_graph(N, kave/(N-1))\n",
    "\n",
    "H = nx.DiGraph()  #DiGraph showing possible transitions that don't require an interaction\n",
    "H.add_edge('I', 'R', rate = 0.0025)   #Recovery rate\n",
    "H.add_edge('R', 'S', rate = 0.001)   #Recovered -> Susceptible\n",
    "\n",
    "J = nx.DiGraph()    #DiGraph showing transition that does require an interaction.\n",
    "J.add_edge(('I', 'S'), ('I', 'I'), rate = 0.0065)  #IS->II\n",
    "\n",
    "IC = defaultdict(lambda: 'S')\n",
    "for node in range(10):\n",
    "    IC[node] = 'I'\n",
    "\n",
    "return_statuses = ('S', 'I', 'R')\n",
    "\n",
    "t, S, I, R = EoN.Gillespie_simple_contagion(G, H, J, IC, return_statuses, tmax = 2000)\n",
    "\n",
    "plt.plot(t, S, label = 'S')\n",
    "plt.plot(t, I, label = 'I')\n",
    "plt.plot(t, R, label = 'R')\n",
    "plt.legend()"
   ]
  },
  {
   "cell_type": "markdown",
   "id": "2b2a74e1",
   "metadata": {},
   "source": [
    "## SIRV Model\n",
    "\n",
    "The SIRV model includes the vaccination status of the different people or nodes within the simulation. Each person has a chance to become vaccinated at the start, but they must be susceptible. This adds an interesting layer of whether or not vaccinations could assist with the recovery of a population. We also added in a decrease of variability of the vaccine. What this means that after a certain rate of time, the vaccination will begin to wear off and people can become sick again, if they have not yet recovered that is.\n"
   ]
  },
  {
   "cell_type": "code",
   "execution_count": null,
   "id": "80d2bc9c",
   "metadata": {},
   "outputs": [],
   "source": [
    "G = nx.grid_2d_graph(32,32) #each node is (u,v) where 0<=u,v<=32    32x32 = 1024 population\n",
    "#we'll initially infect those near the middle\n",
    "initial_infections = [(u,v) for (u,v) in G if 14<u<18 and 14<v<18] # 3x3 = 9 initial infected\n",
    "H = nx.DiGraph() #the spontaneous transitions\n",
    "H.add_edge('Sus', 'Vac', rate = 0.0003)\n",
    "H.add_edge('Inf', 'Rec', rate = 0.0025)\n",
    "J = nx.DiGraph() #the induced transitions\n",
    "J.add_edge(('Inf', 'Sus'), ('Inf', 'Inf'), rate = 0.01)\n",
    "\n",
    "IC = defaultdict(lambda:'Sus')\n",
    "for node in initial_infections:\n",
    "    IC[node] = 'Inf'\n",
    "    \n",
    "return_statuses = ['Sus', 'Inf', 'Rec', 'Vac']\n",
    "\n",
    "color_dict = {'Sus': '#E69A00','Inf':'#ff2000', 'Rec':'#CD9AB3','Vac': '#03254c'}\n",
    "pos = {node:node for node in G}\n",
    "tex = False\n",
    "sim_kwargs = {'color_dict':color_dict, 'pos':pos, 'tex':tex}\n",
    "\n",
    "sim = EoN.Gillespie_simple_contagion(G, H, J, IC, return_statuses, tmax=2000, return_full_data=True, sim_kwargs=sim_kwargs)\n",
    "\n",
    "times, D = sim.summary()\n",
    "\n",
    "newD = {'Sus+Vac':D['Sus']+D['Vac'], 'Inf+Rec' : D['Inf'] + D['Rec']}\n",
    "\n",
    "new_timeseries = (times, newD)\n",
    "sim.add_timeseries(new_timeseries, label = 'Simulation', color_dict={'Sus+Vac':'#E69A00', 'Inf+Rec':'#CD9AB3'})\n",
    "\n",
    "sim.display(time=1, node_size = 4, ts_plots=[['Inf'], ['Sus+Vac', 'Inf+Rec']])\n",
    "\n",
    "ani=sim.animate(ts_plots=[['Inf'], ['Sus+Vac', 'Inf+Rec']], node_size = 4)\n",
    "ani.save('SIRV_animate.gif', writer=\"pillow\", dpi=100)"
   ]
  },
  {
   "cell_type": "markdown",
   "id": "25421779",
   "metadata": {},
   "source": [
    "Demonstration of the vaccine wear off."
   ]
  },
  {
   "cell_type": "code",
   "execution_count": null,
   "id": "6f12797a",
   "metadata": {},
   "outputs": [],
   "source": [
    "G = nx.grid_2d_graph(32,32) #each node is (u,v) where 0<=u,v<=32\n",
    "#we'll initially infect those near the middle\n",
    "initial_infections = [(u,v) for (u,v) in G if 14<u<18 and 14<v<18]\n",
    "H = nx.DiGraph() #the spontaneous transitions\n",
    "H.add_edge('Sus', 'Vac', rate = 0.0005)\n",
    "H.add_edge('Inf', 'Rec', rate = 0.0025)\n",
    "J = nx.DiGraph() #the induced transitions\n",
    "J.add_edge(('Inf', 'Sus'), ('Inf', 'Inf'), rate = 0.01)\n",
    "\n",
    "IC = defaultdict(lambda:'Sus')\n",
    "for node in initial_infections:\n",
    "    IC[node] = 'Inf'\n",
    "    \n",
    "return_statuses = ['Sus', 'Inf', 'Rec', 'Vac']\n",
    "\n",
    "color_dict = {'Sus': '#E69A00','Inf':'#ff2000', 'Rec':'#CD9AB3','Vac': '#03254c'}\n",
    "pos = {node:node for node in G}\n",
    "tex = False\n",
    "sim_kwargs = {'color_dict':color_dict, 'pos':pos, 'tex':tex}\n",
    "\n",
    "sim = EoN.Gillespie_simple_contagion(G, H, J, IC, return_statuses, tmax=2000, return_full_data=True, sim_kwargs=sim_kwargs)\n",
    "\n",
    "times, D = sim.summary()\n",
    "\n",
    "newD = {'Sus+Vac':D['Sus']+D['Vac'], 'Inf+Rec' : D['Inf'] + D['Rec']}\n",
    "\n",
    "new_timeseries = (times, newD)\n",
    "sim.add_timeseries(new_timeseries, label = 'Simulation', color_dict={'Sus+Vac':'#E69A00', 'Inf+Rec':'#CD9AB3'})\n",
    "\n",
    "sim.display(time=1, node_size = 4, ts_plots=[['Inf'], ['Sus+Vac', 'Inf+Rec']])\n",
    "\n",
    "ani2=sim.animate(ts_plots=[['Inf'], ['Sus+Vac', 'Inf+Rec']], node_size = 4)\n",
    "ani2.save('SIRV_animate.gif', writer=\"pillow\", dpi=100)"
   ]
  },
  {
   "cell_type": "code",
   "execution_count": null,
   "id": "6c2f730b",
   "metadata": {},
   "outputs": [],
   "source": [
    "\n",
    "HTML(ani.to_jshtml())"
   ]
  },
  {
   "cell_type": "code",
   "execution_count": null,
   "id": "6fbf79c6",
   "metadata": {},
   "outputs": [],
   "source": [
    "HTML(ani2.to_jshtml())"
   ]
  },
  {
   "cell_type": "markdown",
   "id": "f0df5ca7",
   "metadata": {},
   "source": [
    "## Masks\n",
    "\n",
    "In this scenario, we implement masks. We will be using the SIR model to demonstrate how effective masks can be in curtailing the pandemic. \n",
    "\n",
    "Based on mayoclinic.org report (https://www.mayoclinic.org/diseases-conditions/coronavirus/in-depth/coronavirus-mask/art-20485449). \n",
    "\n",
    "The report indicates that 83% of masks assist with curtailing COVID-19. This is not a representation of how COVID-19 affects the population, but it is a starting point for how effective masks can be in a \"general\" pandemic scenario. Without masks, we start an infection rate of 0.0065. Taking 83% of 0.0065, we get 0.001105. As such this is the representation of how masks can affect a pandemic, if the population were to wear them at time(1).\n"
   ]
  },
  {
   "cell_type": "code",
   "execution_count": null,
   "id": "613e96f4",
   "metadata": {},
   "outputs": [],
   "source": [
    "N = 1000\n",
    "kave = 5    #expected number of friends/family\n",
    "G = nx.fast_gnp_random_graph(N, kave/(N-1))\n",
    "\n",
    "H = nx.DiGraph()\n",
    "H.add_edge('I', 'R', rate = 0.0025)   #Recovery rate\n",
    "H.add_edge('R', 'S', rate = 0.001)   #Recovered -> Susceptible\n",
    "\n",
    "J = nx.DiGraph()  \n",
    "J.add_edge(('I', 'S'), ('I', 'I'), rate = 0.001105)  #IS->II 83% of 0.0065 (this is based on the stat that 83% of masks curtail people getting infect with COVID)\n",
    "\n",
    "IC = defaultdict(lambda: 'S')\n",
    "for node in range(10):\n",
    "    IC[node] = 'I'\n",
    "\n",
    "return_statuses = ('S', 'I', 'R')\n",
    "\n",
    "t, S, I, R = EoN.Gillespie_simple_contagion(G, H, J, IC, return_statuses, tmax = 2000)\n",
    "\n",
    "plt.plot(t, S, label = 'S')\n",
    "plt.plot(t, I, label = 'I')\n",
    "plt.plot(t, R, label = 'R')\n",
    "plt.ylabel('Population')\n",
    "plt.xlabel('$t$')\n",
    "plt.legend()"
   ]
  },
  {
   "cell_type": "markdown",
   "id": "55fbad04",
   "metadata": {},
   "source": [
    "## Without Masks\n",
    "\n",
    "This scenario shows what happens if we do not have masks and the population does not wear them at all. The rate will be the full 0.0065 rate. Show casing that there is nothing stopping the infection from spreading betweens friends and family, except the chance of getting the virus."
   ]
  },
  {
   "cell_type": "code",
   "execution_count": null,
   "id": "d0e65ce8",
   "metadata": {},
   "outputs": [],
   "source": [
    "N = 1000\n",
    "kave = 5    #expected number of friends/family\n",
    "G = nx.fast_gnp_random_graph(N, kave/(N-1))\n",
    "\n",
    "H = nx.DiGraph()\n",
    "H.add_edge('I', 'R', rate = 0.0025)   #Recovery rate\n",
    "H.add_edge('R', 'S', rate = 0.001)   #Recovered -> Susceptible\n",
    "\n",
    "J = nx.DiGraph()  \n",
    "J.add_edge(('I', 'S'), ('I', 'I'), rate = 0.0065)  #IS->II, half the rate of  demonstrating an half in infection occuring if masks are worn by the population\n",
    "\n",
    "IC = defaultdict(lambda: 'S')\n",
    "for node in range(10):\n",
    "    IC[node] = 'I'\n",
    "\n",
    "return_statuses = ('S', 'I', 'R')\n",
    "\n",
    "t, S, I, R = EoN.Gillespie_simple_contagion(G, H, J, IC, return_statuses, tmax = 2000)\n",
    "\n",
    "plt.plot(t, S, label = 'S')\n",
    "plt.plot(t, I, label = 'I')\n",
    "plt.plot(t, R, label = 'R')\n",
    "plt.ylabel('Population')\n",
    "plt.xlabel('$t$')\n",
    "plt.legend()"
   ]
  },
  {
   "cell_type": "markdown",
   "id": "40414bb9",
   "metadata": {},
   "source": [
    "As you can tell above. We have a significant increase of people that acquired the infection, than those that didn't. With a mask stopping 83% of an infection actually occuring for S(t) people, we had a significant decrease. Based on our evidence, masks do something and not anything at all. However, different types of masks and their grade is not included into these scenarios, so do keep that in mind."
   ]
  },
  {
   "cell_type": "markdown",
   "id": "6b2edeac",
   "metadata": {},
   "source": [
    "## Section III\n",
    "\n",
    "# Conclusion\n",
    "\n",
    "To conclude, the different models above assist in a better understanding of how diseases can spread, and with differing variations we can better understand how lockdowns, social gatherings, quarantines, or masks can either improve or unimprove a pandemic. It is important to note that these models do not take into account all variables that can occur during a pandemic, because humans and viruses can be unpredictable sometimes. Which leaves much to understand. "
   ]
  }
 ],
 "metadata": {
  "celltoolbar": "Tags",
  "kernelspec": {
   "display_name": "Python 3.10.8 64-bit (microsoft store)",
   "language": "python",
   "name": "python3"
  },
  "language_info": {
   "codemirror_mode": {
    "name": "ipython",
    "version": 3
   },
   "file_extension": ".py",
   "mimetype": "text/x-python",
   "name": "python",
   "nbconvert_exporter": "python",
   "pygments_lexer": "ipython3",
   "version": "3.10.8"
  },
  "vscode": {
   "interpreter": {
    "hash": "5af4573ee0057a2f8ee2003d80819ffecdedc43678807aa3b9ae2350f65dbf18"
   }
  }
 },
 "nbformat": 4,
 "nbformat_minor": 5
}
